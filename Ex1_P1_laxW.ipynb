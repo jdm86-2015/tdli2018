{
 "cells": [
  {
   "cell_type": "code",
   "execution_count": null,
   "metadata": {},
   "outputs": [],
   "source": [
    "# Implement a Lax-Wendroff solver\n",
    "# Environment configuration\n",
    "import numpy as np\n",
    "import matplotlib.pyplot as plt"
   ]
  },
  {
   "cell_type": "code",
   "execution_count": null,
   "metadata": {},
   "outputs": [],
   "source": [
    "xBins = 100\n",
    "xLength = 1.0\n",
    "deltaX = xLength/xBins\n",
    "x = np.arange(0,xBins)\n",
    "x = x*deltaX\n",
    "print(x)\n",
    "print(deltaX)"
   ]
  },
  {
   "cell_type": "code",
   "execution_count": null,
   "metadata": {},
   "outputs": [],
   "source": [
    "# Implement the Lax-Wendroff solution to the differential equation dt(u) + dx(u) = 0\n",
    "\n",
    "def uNext(u,deltaT):\n",
    "    up1 = np.roll(u,1)\n",
    "    um1 = np.roll(u,-1)\n",
    "    temp = u - (0.5*deltaT/deltaX)*(up1-um1) + (0.5*deltaT*deltaT/(deltaX*deltaX))*(up1 - 2.0*u + um1)\n",
    "    return temp"
   ]
  },
  {
   "cell_type": "code",
   "execution_count": null,
   "metadata": {},
   "outputs": [],
   "source": [
    "# Implement the initial condition\n",
    "\n",
    "u = np.zeros(x.shape)\n",
    "\n",
    "def IC(vec,bins):\n",
    "    halfPoint = int(bins/2)\n",
    "    vec[:halfPoint] = 1.0\n",
    "    vec[halfPoint:] = 0.0\n",
    "    return vec\n",
    "\n",
    "\n",
    "u = IC(u,xBins)\n",
    "plt.figure(figsize=(9,9))\n",
    "plt.plot(x,u,'k--')\n",
    "plt.show()"
   ]
  },
  {
   "cell_type": "code",
   "execution_count": null,
   "metadata": {},
   "outputs": [],
   "source": [
    "dt = 1.0e-2\n",
    "\n",
    "IC(u,xBins)\n",
    "tFinal = 0.5\n",
    "tBins = int(np.ceil(tFinal/dt))\n",
    "print(tBins)\n",
    "\n",
    "for iii in range(1,tBins+1):\n",
    "    time = dt*iii\n",
    "    u = uNext(u,dt)\n",
    "    \n",
    "print(time)"
   ]
  },
  {
   "cell_type": "code",
   "execution_count": null,
   "metadata": {},
   "outputs": [],
   "source": [
    "plt.figure(figsize=(9,9))\n",
    "plt.plot(x,u,'k--')\n",
    "plt.show()"
   ]
  },
  {
   "cell_type": "code",
   "execution_count": null,
   "metadata": {},
   "outputs": [],
   "source": []
  },
  {
   "cell_type": "code",
   "execution_count": null,
   "metadata": {},
   "outputs": [],
   "source": []
  },
  {
   "cell_type": "code",
   "execution_count": null,
   "metadata": {},
   "outputs": [],
   "source": []
  },
  {
   "cell_type": "code",
   "execution_count": null,
   "metadata": {},
   "outputs": [],
   "source": []
  }
 ],
 "metadata": {
  "kernelspec": {
   "display_name": "Python 3",
   "language": "python",
   "name": "python3"
  },
  "language_info": {
   "codemirror_mode": {
    "name": "ipython",
    "version": 3
   },
   "file_extension": ".py",
   "mimetype": "text/x-python",
   "name": "python",
   "nbconvert_exporter": "python",
   "pygments_lexer": "ipython3",
   "version": "3.6.4"
  }
 },
 "nbformat": 4,
 "nbformat_minor": 2
}
